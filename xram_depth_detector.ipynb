{
 "cells": [
  {
   "cell_type": "markdown",
   "id": "89edec5f",
   "metadata": {},
   "source": [
    "# Depth Detector\n",
    "\n",
    "### 1) Place two tennis balls directly underneath one another. One on the ground and one on top of the object of interest.\n",
    "\n",
    "### 2) Take an image as close to 90 degrees as possible\n",
    "\n",
    "### 3) Upload the image and find the depth"
   ]
  },
  {
   "cell_type": "code",
   "execution_count": 1,
   "id": "5e2ae60a",
   "metadata": {},
   "outputs": [],
   "source": [
    "import numpy as np\n",
    "# import argparse\n",
    "import cv2\n",
    "from scipy.spatial import distance as dist\n",
    "from imutils import contours\n",
    "import imutils\n",
    "\n",
    "from ipywidgets import *\n",
    "from PIL import Image"
   ]
  },
  {
   "cell_type": "code",
   "execution_count": 2,
   "id": "05fcbf68",
   "metadata": {},
   "outputs": [],
   "source": [
    "# # construct the argument parse and parse the arguments\n",
    "# ap = argparse.ArgumentParser()\n",
    "# ap.add_argument(\"-i\", \"--image\", required=True,\n",
    "#     help=\"path to the input image\")\n",
    "# ap.add_argument(\"-w\", \"--width\", type=float, required=True,\n",
    "#     help=\"width of the left-most object in the image (in centimeters)\")\n",
    "# args = vars(ap.parse_args())"
   ]
  },
  {
   "cell_type": "code",
   "execution_count": 3,
   "id": "8cf87e1b",
   "metadata": {},
   "outputs": [],
   "source": [
    "def midpoint(ptA, ptB):\n",
    "    return ((ptA[0] + ptB[0]) * 0.5, (ptA[1] + ptB[1]) * 0.5)\n",
    "\n",
    "def rec_center_point(x,y,w,h):\n",
    "    xm = x + (w/2)\n",
    "    ym = y + (h/2)\n",
    "    return xm, ym\n",
    "\n",
    "def distance(x1,y1,x2,y2):\n",
    "    dx = abs(x1-x2)\n",
    "    dy = abs(y2-y1)\n",
    "    dist = np.sqrt(dx**2 + dy**2)\n",
    "    return dist\n",
    "\n",
    "def normalize_distance(w1,h1,w2,h2,width):\n",
    "    avg_dim = np.mean([w1,h1,w2,h2])\n",
    "    multiplier = width/avg_dim\n",
    "    return multiplier"
   ]
  },
  {
   "cell_type": "code",
   "execution_count": 4,
   "id": "ab89762a",
   "metadata": {},
   "outputs": [],
   "source": [
    "def color_extractor(image_data):\n",
    "    nparr = np.frombuffer(image_data, np.uint8)\n",
    "    image = cv2.imdecode(nparr, cv2.IMREAD_COLOR)\n",
    "    \n",
    "    out_img_og.clear_output()\n",
    "    with out_img_og:\n",
    "        disp_im = Image.fromarray(np.flip(image, axis=-1))\n",
    "        disp_im.thumbnail([450,450])\n",
    "        display(disp_im)\n",
    "           \n",
    "    ## convert to hsv, hsv is easier than bgr range\n",
    "    hsv = cv2.cvtColor(image, cv2.COLOR_BGR2HSV)\n",
    "    mask = cv2.inRange(hsv, (36, 25, 25), (70, 255,255))\n",
    "    \n",
    "    ## slice the selected color range\n",
    "    imask = mask>0\n",
    "    color_sliced_image = np.zeros_like(image, np.uint8)\n",
    "    color_sliced_image[imask] = image[imask]\n",
    "       \n",
    "    return image, color_sliced_image"
   ]
  },
  {
   "cell_type": "code",
   "execution_count": 5,
   "id": "bcd45b99",
   "metadata": {
    "scrolled": false
   },
   "outputs": [],
   "source": [
    "# Create widgets\n",
    "btn1_upload = FileUpload(description='Select Image')\n",
    "out_img_og = Output()\n",
    "btn_load = Button(description='Find Depth')\n",
    "out_img_measure = Output()\n",
    "\n",
    "item_width = 6.9 # width in cm\n",
    "\n",
    "def detect_depth(change):\n",
    "    # Extract color of interest from selected image\n",
    "    og_img, extracted_img = color_extractor(btn1_upload.data[-1])\n",
    "    \n",
    "    # Make a copy of the extracted image\n",
    "    image = extracted_img.copy() \n",
    "\n",
    "    # Grayscale and denoise\n",
    "    gray = cv2.cvtColor(image, cv2.COLOR_BGR2GRAY)\n",
    "    gray = cv2.GaussianBlur(gray, (5, 5), 0)\n",
    "    edged = cv2.Canny(gray, 50, 200)\n",
    "    edged = cv2.dilate(edged, None, iterations=1)\n",
    "    edged = cv2.erode(edged, None, iterations=1)\n",
    "\n",
    "    # Finding Contours\n",
    "    # Use a copy of the image e.g. edged.copy()\n",
    "    # since findContours alters the image\n",
    "    contours, hierarchy = cv2.findContours(edged, \n",
    "        cv2.RETR_EXTERNAL, cv2.CHAIN_APPROX_NONE)\n",
    "\n",
    "    # plt.figure()\n",
    "    # plt.imshow(edged)\n",
    "    # plt.show()\n",
    "\n",
    "    # Draw all contours\n",
    "    # -1 signifies drawing all contours\n",
    "    cv2.drawContours(image, contours, -1, (0, 255, 0), 3)\n",
    "    \n",
    "    # Sort contours from largest to smallest\n",
    "    contours = sorted(contours, key=cv2.contourArea, reverse=True)\n",
    "    c1 = contours[0] # largest contour\n",
    "    c2 = contours[1] # second largest contour\n",
    "\n",
    "    # Draw bounding rectangles on 2 largest contours\n",
    "    x1,y1,w1,h1 = cv2.boundingRect(c1)\n",
    "    cv2.rectangle(image,(x1,y1),(x1+w1,y1+h1),(255,0,0),20) # red\n",
    "    cv2.rectangle(og_img,(x1,y1),(x1+w1,y1+h1),(255,0,0),20) # red\n",
    "\n",
    "    x2,y2,w2,h2 = cv2.boundingRect(c2)\n",
    "    cv2.rectangle(image,(x2,y2),(x2+w2,y2+h2),(0,0,255),20) # blue\n",
    "    cv2.rectangle(og_img,(x2,y2),(x2+w2,y2+h2),(0,0,255),20) # blue\n",
    "\n",
    "    # # show the images\n",
    "    # plt.figure()\n",
    "    # plt.imshow(image)\n",
    "    # plt.show()\n",
    "    \n",
    "    # define center points of rectangles\n",
    "    xm1,ym1 = rec_center_point(x1,y1,w1,h1)\n",
    "    xm2,ym2 = rec_center_point(x2,y2,w2,h2)\n",
    "    \n",
    "    # find the unnormalized distance between center points\n",
    "    D = dist.euclidean([xm1,ym1],[xm2,ym2])\n",
    "    \n",
    "    # find multiplier with which to normalize the distance\n",
    "    multiplier = normalize_distance(w1,h1,w2,h2,item_width)\n",
    "    \n",
    "    # define midpoint between two bounding rectangles, this is where we write the depth\n",
    "    (mX, mY) = midpoint((xm1, ym1), (xm2, ym2))\n",
    "\n",
    "    # draw connecting line and depth on original image\n",
    "    cv2.circle(og_img, (int(xm1), int(ym1)), 5, (0,255,0), -1)\n",
    "    cv2.circle(og_img, (int(xm2), int(ym2)), 5, (0,255,0), -1)\n",
    "    cv2.line(og_img, (int(xm1), int(ym1)), (int(xm2), int(ym2)), (0,255,0), 2)\n",
    "    cv2.putText(og_img, \"{:.1f}cm\".format(D*multiplier), (int(mX), int(mY - 10)),\n",
    "                    cv2.FONT_HERSHEY_SIMPLEX, 2, (0,255,0), 4)\n",
    "    \n",
    "    # print distance to screen\n",
    "    print('Distance: ' + str(round(D*multiplier,1)) + ' cm')\n",
    "    \n",
    "    # display image in jupyter widget\n",
    "    out_img_measure.clear_output()\n",
    "    with out_img_measure:\n",
    "        disp_im = Image.fromarray(np.flip(og_img, axis=-1))\n",
    "        disp_im.thumbnail([450,450])\n",
    "        display(disp_im)\n",
    "    \n",
    "btn_load.on_click(detect_depth)"
   ]
  },
  {
   "cell_type": "code",
   "execution_count": 6,
   "id": "4165c863",
   "metadata": {},
   "outputs": [
    {
     "data": {
      "application/vnd.jupyter.widget-view+json": {
       "model_id": "e955dd40fb6f47afa6a0abd606fa527d",
       "version_major": 2,
       "version_minor": 0
      },
      "text/plain": [
       "VBox(children=(HBox(children=(FileUpload(value={}, description='Select Image'), Button(description='Find Depth…"
      ]
     },
     "metadata": {},
     "output_type": "display_data"
    }
   ],
   "source": [
    "VBox([HBox([btn1_upload, btn_load]), \n",
    "      HBox([out_img_og, out_img_measure])])"
   ]
  },
  {
   "cell_type": "code",
   "execution_count": null,
   "id": "97ac61dc",
   "metadata": {},
   "outputs": [],
   "source": []
  }
 ],
 "metadata": {
  "kernelspec": {
   "display_name": "test_env",
   "language": "python",
   "name": "test_env"
  },
  "language_info": {
   "codemirror_mode": {
    "name": "ipython",
    "version": 3
   },
   "file_extension": ".py",
   "mimetype": "text/x-python",
   "name": "python",
   "nbconvert_exporter": "python",
   "pygments_lexer": "ipython3",
   "version": "3.8.10"
  }
 },
 "nbformat": 4,
 "nbformat_minor": 5
}
